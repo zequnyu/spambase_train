{
 "cells": [
  {
   "cell_type": "markdown",
   "metadata": {},
   "source": [
    "# Classification task on reporting spam emails\n",
    "\n",
    "In the task we need to classify spam emails based on a dataset of 4601 emails, of which 1813 are spam. This is a typical binary classification problem as the result will be either 0 (not spam) or 1 (spam).\n",
    "\n",
    "For classical Machine Learning methods, we can choose various of methods such as Artificial Neural Network, Decision Tree, or SVM. Since the requirement is not specified, I'm going to choose SVM as the classifier.\n",
    "\n",
    "The python ML library scikit-learn will be used for this task."
   ]
  },
  {
   "cell_type": "markdown",
   "metadata": {},
   "source": [
    "First we need to import svm from scikit-learn, np from numpy and the data from file."
   ]
  },
  {
   "cell_type": "code",
   "execution_count": 1,
   "metadata": {},
   "outputs": [],
   "source": [
    "import numpy as np\n",
    "from sklearn import svm\n",
    "\n",
    "input_data = np.genfromtxt('spambase.data', delimiter=\",\")\n",
    "# number of samples\n",
    "l = input_data.shape[0]\n",
    "# k-fold\n",
    "k = 10\n",
    "\n",
    "data = input_data[:, 0:57]\n",
    "target = input_data[:, 57]"
   ]
  },
  {
   "cell_type": "markdown",
   "metadata": {},
   "source": [
    "As required, it is fair to perform 10-fold cross-validation, so we divide our data into 10 groups. This means we need some breakpoints."
   ]
  },
  {
   "cell_type": "code",
   "execution_count": 3,
   "metadata": {},
   "outputs": [],
   "source": [
    "breakpoints = [460*n for n in range(0,k)]"
   ]
  },
  {
   "cell_type": "markdown",
   "metadata": {},
   "source": [
    "For SVM, in each of the 10-fold validation we can try different parameters (gamma and C) and find the better one by performing k-fold cross-validation. We can also compare and choose different kernels. Since it is indicated in the instruction that this is not the point, I will choose rbf kernel and leave others to default value.\n",
    "\n",
    "Before training the data, we specify the result table here:\n",
    "|     | false-positive | false-negative | error-rate |\n",
    "|-----|----------------|----------------|------------|\n",
    "| 1   |                |                |            |\n",
    "| ... |                |                |            |\n",
    "| 10  |                |                |            |"
   ]
  },
  {
   "cell_type": "code",
   "execution_count": 4,
   "metadata": {},
   "outputs": [],
   "source": [
    "results = []\n",
    "for i in range(0, k):\n",
    "    start = breakpoints[i]\n",
    "    end = breakpoints[i]+(l//k+1) if (i == (k-1)) else breakpoints[i]+(l//k)\n",
    "    \n",
    "    train_data = np.array([data[n] for n in range(0,l) if (n < start or n >= end)])\n",
    "    train_target = np.array([target[n] for n in range(0,l) if (n < start or n >= end)])\n",
    "    \n",
    "    test_data = np.array([data[n] for n in range(0,l) if (n >= start and n < end)])\n",
    "    test_target = np.array([target[n] for n in range(0,l) if (n >= start and n < end)])\n",
    "    \n",
    "    rbf_svc = svm.SVC(gamma='auto', kernel='rbf')\n",
    "    \n",
    "    rbf_svc.fit(train_data, train_target)\n",
    "    \n",
    "    predict_result = rbf_svc.predict(test_data)\n",
    "    \n",
    "    fp = 0\n",
    "    fn = 0\n",
    "    num = predict_result.shape[0]\n",
    "    for t in range(0, num):\n",
    "        if test_target[t] == 0 and predict_result[t] == 1:\n",
    "            fp += 1\n",
    "        if test_target[t] == 1 and predict_result[t] == 0:\n",
    "            fn += 1\n",
    "    \n",
    "    err = (fp + fn) / num\n",
    "    results.append((fp, fn, err))"
   ]
  },
  {
   "cell_type": "markdown",
   "metadata": {},
   "source": [
    "Finally we calculate the average false-positive, false-negative and error rate."
   ]
  },
  {
   "cell_type": "code",
   "execution_count": 5,
   "metadata": {},
   "outputs": [
    {
     "name": "stdout",
     "output_type": "stream",
     "text": [
      "[(0, 148, 0.3217391304347826), (0, 144, 0.3130434782608696), (0, 108, 0.23478260869565218), (5, 126, 0.2847826086956522), (105, 0, 0.22826086956521738), (88, 0, 0.19130434782608696), (125, 0, 0.2717391304347826), (64, 0, 0.1391304347826087), (72, 0, 0.1565217391304348), (160, 0, 0.3470715835140998), (61.9, 52.6, 0.24885894370788958)]\n"
     ]
    }
   ],
   "source": [
    "total_fp = 0\n",
    "total_fn = 0\n",
    "for r in results:\n",
    "    total_fp += r[0]\n",
    "    total_fn += r[1]\n",
    "\n",
    "results.append((total_fp/k, total_fn/k, (total_fp+total_fn)/l))\n",
    "\n",
    "print(results)"
   ]
  }
 ],
 "metadata": {
  "kernelspec": {
   "display_name": "Python 3",
   "language": "python",
   "name": "python3"
  },
  "language_info": {
   "codemirror_mode": {
    "name": "ipython",
    "version": 3
   },
   "file_extension": ".py",
   "mimetype": "text/x-python",
   "name": "python",
   "nbconvert_exporter": "python",
   "pygments_lexer": "ipython3",
   "version": "3.7.3"
  }
 },
 "nbformat": 4,
 "nbformat_minor": 2
}
